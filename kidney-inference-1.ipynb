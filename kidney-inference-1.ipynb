{
 "cells": [
  {
   "cell_type": "code",
   "execution_count": 1,
   "id": "a23cce28",
   "metadata": {
    "execution": {
     "iopub.execute_input": "2024-01-23T15:14:56.290561Z",
     "iopub.status.busy": "2024-01-23T15:14:56.289685Z",
     "iopub.status.idle": "2024-01-23T15:15:09.983475Z",
     "shell.execute_reply": "2024-01-23T15:15:09.982550Z"
    },
    "papermill": {
     "duration": 13.705144,
     "end_time": "2024-01-23T15:15:09.986503",
     "exception": false,
     "start_time": "2024-01-23T15:14:56.281359",
     "status": "completed"
    },
    "tags": []
   },
   "outputs": [],
   "source": [
    "import warnings\n",
    "warnings.filterwarnings('ignore')\n",
    "import os\n",
    "import sys\n",
    "import numpy as np\n",
    "import pandas as pd\n",
    "from tqdm import tqdm\n",
    "import matplotlib.pyplot as plt\n",
    "from sklearn.model_selection import train_test_split\n",
    "import seaborn as sns\n",
    "import datetime\n",
    "from PIL import Image, ImageStat\n",
    "import math\n",
    "from glob import glob\n",
    "import tensorflow as tf\n",
    "from tensorflow.keras.models import Model\n",
    "from tensorflow.keras.layers import Input\n",
    "from tensorflow.keras.layers import Activation\n",
    "from tensorflow.keras.layers import BatchNormalization\n",
    "from tensorflow.keras.layers import Conv2D\n",
    "from tensorflow.keras.layers import UpSampling2D\n",
    "from tensorflow.keras.layers import Add\n",
    "from tensorflow.keras.initializers import RandomNormal\n",
    "from tifffile import tifffile\n",
    "# %load_ext tensorboard"
   ]
  },
  {
   "cell_type": "code",
   "execution_count": 2,
   "id": "3120371e",
   "metadata": {
    "execution": {
     "iopub.execute_input": "2024-01-23T15:15:10.007180Z",
     "iopub.status.busy": "2024-01-23T15:15:10.006523Z",
     "iopub.status.idle": "2024-01-23T15:15:10.451316Z",
     "shell.execute_reply": "2024-01-23T15:15:10.450216Z"
    },
    "papermill": {
     "duration": 0.455357,
     "end_time": "2024-01-23T15:15:10.453657",
     "exception": false,
     "start_time": "2024-01-23T15:15:09.998300",
     "status": "completed"
    },
    "tags": []
   },
   "outputs": [
    {
     "name": "stdout",
     "output_type": "stream",
     "text": [
      "[PhysicalDevice(name='/physical_device:GPU:0', device_type='GPU'), PhysicalDevice(name='/physical_device:GPU:1', device_type='GPU')]\n"
     ]
    }
   ],
   "source": [
    "# Enable GPU and check available devices\n",
    "print(tf.config.list_physical_devices('GPU'))"
   ]
  },
  {
   "cell_type": "code",
   "execution_count": 3,
   "id": "f0c562d9",
   "metadata": {
    "execution": {
     "iopub.execute_input": "2024-01-23T15:15:10.468152Z",
     "iopub.status.busy": "2024-01-23T15:15:10.467659Z",
     "iopub.status.idle": "2024-01-23T15:15:11.315972Z",
     "shell.execute_reply": "2024-01-23T15:15:11.314788Z"
    },
    "papermill": {
     "duration": 0.857789,
     "end_time": "2024-01-23T15:15:11.318161",
     "exception": false,
     "start_time": "2024-01-23T15:15:10.460372",
     "status": "completed"
    },
    "tags": []
   },
   "outputs": [
    {
     "name": "stdout",
     "output_type": "stream",
     "text": [
      "Number of devices: 2\n"
     ]
    }
   ],
   "source": [
    "# Create a MirroredStrategy.\n",
    "strategy = tf.distribute.MirroredStrategy()\n",
    "\n",
    "print('Number of devices: {}'.format(strategy.num_replicas_in_sync))"
   ]
  },
  {
   "cell_type": "code",
   "execution_count": 4,
   "id": "92662225",
   "metadata": {
    "execution": {
     "iopub.execute_input": "2024-01-23T15:15:11.333569Z",
     "iopub.status.busy": "2024-01-23T15:15:11.333247Z",
     "iopub.status.idle": "2024-01-23T15:15:11.339933Z",
     "shell.execute_reply": "2024-01-23T15:15:11.339204Z"
    },
    "papermill": {
     "duration": 0.016725,
     "end_time": "2024-01-23T15:15:11.342073",
     "exception": false,
     "start_time": "2024-01-23T15:15:11.325348",
     "status": "completed"
    },
    "tags": []
   },
   "outputs": [],
   "source": [
    "from tqdm.notebook import tqdm"
   ]
  },
  {
   "cell_type": "code",
   "execution_count": 5,
   "id": "02506302",
   "metadata": {
    "execution": {
     "iopub.execute_input": "2024-01-23T15:15:11.357221Z",
     "iopub.status.busy": "2024-01-23T15:15:11.356896Z",
     "iopub.status.idle": "2024-01-23T15:15:11.371505Z",
     "shell.execute_reply": "2024-01-23T15:15:11.370638Z"
    },
    "papermill": {
     "duration": 0.024396,
     "end_time": "2024-01-23T15:15:11.373423",
     "exception": false,
     "start_time": "2024-01-23T15:15:11.349027",
     "status": "completed"
    },
    "tags": []
   },
   "outputs": [],
   "source": [
    "kidney5_images = glob('/kaggle/input/blood-vessel-segmentation/test/kidney_5/images/*.tif')\n",
    "kidney6_images = glob('/kaggle/input/blood-vessel-segmentation/test/kidney_6/images/*.tif')"
   ]
  },
  {
   "cell_type": "code",
   "execution_count": 6,
   "id": "627d738f",
   "metadata": {
    "execution": {
     "iopub.execute_input": "2024-01-23T15:15:11.387769Z",
     "iopub.status.busy": "2024-01-23T15:15:11.387024Z",
     "iopub.status.idle": "2024-01-23T15:15:11.395799Z",
     "shell.execute_reply": "2024-01-23T15:15:11.394932Z"
    },
    "papermill": {
     "duration": 0.017826,
     "end_time": "2024-01-23T15:15:11.397683",
     "exception": false,
     "start_time": "2024-01-23T15:15:11.379857",
     "status": "completed"
    },
    "tags": []
   },
   "outputs": [],
   "source": [
    "kidney5_df=pd.DataFrame([kidney5_images],index=['images']).T\n",
    "kidney6_df=pd.DataFrame([kidney6_images],index=['images']).T"
   ]
  },
  {
   "cell_type": "code",
   "execution_count": 7,
   "id": "85b0bc82",
   "metadata": {
    "execution": {
     "iopub.execute_input": "2024-01-23T15:15:11.411836Z",
     "iopub.status.busy": "2024-01-23T15:15:11.411581Z",
     "iopub.status.idle": "2024-01-23T15:15:11.424100Z",
     "shell.execute_reply": "2024-01-23T15:15:11.423300Z"
    },
    "papermill": {
     "duration": 0.021958,
     "end_time": "2024-01-23T15:15:11.426245",
     "exception": false,
     "start_time": "2024-01-23T15:15:11.404287",
     "status": "completed"
    },
    "tags": []
   },
   "outputs": [],
   "source": [
    "test=pd.concat([kidney5_df,kidney6_df],axis=0)\n",
    "test=test.sort_values('images').reset_index(drop=True)"
   ]
  },
  {
   "cell_type": "code",
   "execution_count": 8,
   "id": "d5c4a360",
   "metadata": {
    "_cell_guid": "b1076dfc-b9ad-4769-8c92-a6c4dae69d19",
    "_uuid": "8f2839f25d086af736a60e9eeb907d3b93b6e0e5",
    "execution": {
     "iopub.execute_input": "2024-01-23T15:15:11.440226Z",
     "iopub.status.busy": "2024-01-23T15:15:11.439538Z",
     "iopub.status.idle": "2024-01-23T15:15:11.447788Z",
     "shell.execute_reply": "2024-01-23T15:15:11.446975Z"
    },
    "papermill": {
     "duration": 0.016951,
     "end_time": "2024-01-23T15:15:11.449553",
     "exception": false,
     "start_time": "2024-01-23T15:15:11.432602",
     "status": "completed"
    },
    "tags": []
   },
   "outputs": [],
   "source": [
    "def encode_image_to_tiles(image, tile_size):\n",
    "\n",
    "    # Calculate the number of tiles along rows and columns\n",
    "    rows, cols = image.shape\n",
    "    m, n = tile_size\n",
    "    num_rows = rows // m\n",
    "    num_cols = cols // n\n",
    "\n",
    "    # Create a list to store tiles\n",
    "    tiles = []\n",
    "\n",
    "    # Iterate over the image and extract tiles\n",
    "    for i in range(num_rows):\n",
    "        for j in range(num_cols):\n",
    "            tile = image[i * m: (i + 1) * m, j * n: (j + 1) * n]\n",
    "            tiles.append(tile)\n",
    "\n",
    "    return tiles\n",
    "\n",
    "def decode_tiles_to_image(tiles, original_shape):\n",
    "    # Calculate the number of tiles along rows and columns\n",
    "    num_rows, num_cols = original_shape\n",
    "    m, n = tiles[0].shape\n",
    "\n",
    "    # Create an empty image to reconstruct\n",
    "    reconstructed_image = np.zeros(original_shape, dtype=np.float16)\n",
    "\n",
    "    # Iterate over the tiles and place them in the reconstructed image\n",
    "    idx = 0\n",
    "    for i in range(num_rows//m):\n",
    "        for j in range(num_cols//n):\n",
    "            tile = tiles[idx]\n",
    "            reconstructed_image[i * m: (i + 1) * m, j * n: (j + 1) * n] = tile\n",
    "            idx += 1\n",
    "\n",
    "    return reconstructed_image"
   ]
  },
  {
   "cell_type": "code",
   "execution_count": 9,
   "id": "e20ea0d6",
   "metadata": {
    "execution": {
     "iopub.execute_input": "2024-01-23T15:15:11.463568Z",
     "iopub.status.busy": "2024-01-23T15:15:11.463063Z",
     "iopub.status.idle": "2024-01-23T15:15:11.468592Z",
     "shell.execute_reply": "2024-01-23T15:15:11.467749Z"
    },
    "papermill": {
     "duration": 0.014489,
     "end_time": "2024-01-23T15:15:11.470462",
     "exception": false,
     "start_time": "2024-01-23T15:15:11.455973",
     "status": "completed"
    },
    "tags": []
   },
   "outputs": [],
   "source": [
    "def rle_encode(mask):\n",
    "    pixel = mask.flatten()\n",
    "    pixel = np.concatenate([[0], pixel, [0]])\n",
    "    run = np.where(pixel[1:] != pixel[:-1])[0] + 1\n",
    "    run[1::2] -= run[::2]\n",
    "    rle = ' '.join(str(r) for r in run)\n",
    "    if rle == '':\n",
    "        rle = '1 0'\n",
    "    return rle"
   ]
  },
  {
   "cell_type": "code",
   "execution_count": 10,
   "id": "e2f4da1d",
   "metadata": {
    "execution": {
     "iopub.execute_input": "2024-01-23T15:15:11.484157Z",
     "iopub.status.busy": "2024-01-23T15:15:11.483861Z",
     "iopub.status.idle": "2024-01-23T15:15:11.488026Z",
     "shell.execute_reply": "2024-01-23T15:15:11.487179Z"
    },
    "papermill": {
     "duration": 0.012863,
     "end_time": "2024-01-23T15:15:11.489857",
     "exception": false,
     "start_time": "2024-01-23T15:15:11.476994",
     "status": "completed"
    },
    "tags": []
   },
   "outputs": [],
   "source": [
    "# Hyperparameters\n",
    "BN_MOMENTUM = 0.1\n",
    "BN_EPSILON = 1e-5\n",
    "INITIALIZER = 'he_normal'"
   ]
  },
  {
   "cell_type": "code",
   "execution_count": 11,
   "id": "a8b95354",
   "metadata": {
    "execution": {
     "iopub.execute_input": "2024-01-23T15:15:11.504786Z",
     "iopub.status.busy": "2024-01-23T15:15:11.504534Z",
     "iopub.status.idle": "2024-01-23T15:15:11.526800Z",
     "shell.execute_reply": "2024-01-23T15:15:11.525986Z"
    },
    "papermill": {
     "duration": 0.032327,
     "end_time": "2024-01-23T15:15:11.528672",
     "exception": false,
     "start_time": "2024-01-23T15:15:11.496345",
     "status": "completed"
    },
    "tags": []
   },
   "outputs": [],
   "source": [
    "# Functions to build layers\n",
    "def conv(x, outsize, kernel_size, strides_=1, padding_='same', activation=None):\n",
    "    return Conv2D(outsize, kernel_size, strides=strides_, padding=padding_, \n",
    "                  kernel_initializer=INITIALIZER, use_bias=False, \n",
    "                  activation=activation)(x)\n",
    "\n",
    "def BasicBlock(x, size, downsampe=False):\n",
    "    residual = x\n",
    "\n",
    "    out = conv(x, size, 3)\n",
    "    out = BatchNormalization(epsilon=BN_EPSILON, momentum=BN_MOMENTUM)(out)\n",
    "    out = Activation('relu')(out)\n",
    "\n",
    "    out = conv(out, size, 3)\n",
    "    out = BatchNormalization(epsilon=BN_EPSILON, momentum=BN_MOMENTUM)(out)\n",
    "\n",
    "    if downsampe:\n",
    "        residual = conv(x, size, 1, padding_='valid')\n",
    "        residual = BatchNormalization(epsilon=BN_EPSILON, momentum=BN_MOMENTUM)(residual)\n",
    "\n",
    "    out = Add()([out, residual])\n",
    "    out = Activation('relu')(out)\n",
    "\n",
    "    return out\n",
    "\n",
    "def BottleNeckBlock(x, size, downsampe=False):\n",
    "    residual = x\n",
    "\n",
    "    out = conv(x, size, 1, padding_='valid')\n",
    "    out = BatchNormalization(epsilon=BN_EPSILON, momentum=BN_MOMENTUM)(out)\n",
    "    out = Activation('relu')(out)\n",
    "\n",
    "    out = conv(out, size, 3)\n",
    "    out = BatchNormalization(epsilon=BN_EPSILON, momentum=BN_MOMENTUM)(out)\n",
    "    out = Activation('relu')(out)\n",
    "\n",
    "    out = conv(out, size * 4, 1, padding_='valid')\n",
    "    out = BatchNormalization(epsilon=BN_EPSILON, momentum=BN_MOMENTUM)(out)\n",
    "\n",
    "    if downsampe:\n",
    "        residual = conv(x, size * 4, 1, padding_='valid')\n",
    "        residual = BatchNormalization(epsilon=BN_EPSILON, momentum=BN_MOMENTUM)(residual)\n",
    "\n",
    "    out = Add()([out, residual])\n",
    "    out = Activation('relu')(out)\n",
    "\n",
    "    return out\n",
    "\n",
    "def layer1(x):\n",
    "    x = BottleNeckBlock(x, 64, downsampe=True)\n",
    "    x = BottleNeckBlock(x, 64)\n",
    "    x = BottleNeckBlock(x, 64)\n",
    "    x = BottleNeckBlock(x, 64)\n",
    "\n",
    "    return x\n",
    "\n",
    "def transition_layer(x, in_channels, out_channels):\n",
    "    num_in = len(in_channels)\n",
    "    num_out = len(out_channels)\n",
    "    out = []\n",
    "\n",
    "    for i in range(num_out):\n",
    "        if i < num_in:\n",
    "            if in_channels[i] != out_channels[i]:\n",
    "                residual = conv(x[i], out_channels[i], 3)\n",
    "                residual = BatchNormalization(epsilon=BN_EPSILON, momentum=BN_MOMENTUM)(residual)\n",
    "                residual = Activation('relu')(residual)\n",
    "                out.append(residual)\n",
    "            else:\n",
    "                out.append(x[i])\n",
    "        else:\n",
    "            residual = conv(x[-1], out_channels[i], 3, strides_=2)\n",
    "            residual = BatchNormalization(epsilon=BN_EPSILON, momentum=BN_MOMENTUM)(residual)\n",
    "            residual = Activation('relu')(residual)\n",
    "            out.append(residual)\n",
    "\n",
    "    return out\n",
    "\n",
    "def branches(x, block_num, channels):\n",
    "    out = []\n",
    "    for i in range(len(channels)):\n",
    "        residual = x[i]\n",
    "        for j in range(block_num):\n",
    "            residual = BasicBlock(residual, channels[i])\n",
    "        out.append(residual)\n",
    "    return out\n",
    "\n",
    "def fuse_layers(x, channels, multi_scale_output=True):\n",
    "    out = []\n",
    "\n",
    "    for i in range(len(channels) if multi_scale_output else 1):\n",
    "        residual = x[i]\n",
    "        for j in range(len(channels)):\n",
    "            if j > i:\n",
    "                y = conv(x[j], channels[i], 1, padding_='valid')\n",
    "                y = BatchNormalization(epsilon=BN_EPSILON, momentum=BN_MOMENTUM)(y)\n",
    "                y = UpSampling2D(size=2 ** (j - i))(y)\n",
    "                residual = Add()([residual, y])\n",
    "            elif j < i:\n",
    "                y = x[j]\n",
    "                for k in range(i - j):\n",
    "                    if k == i - j - 1:\n",
    "                        y = conv(y, channels[i], 3, strides_=2)\n",
    "                        y = BatchNormalization(epsilon=BN_EPSILON, momentum=BN_MOMENTUM)(y)\n",
    "                    else:\n",
    "                        y = conv(y, channels[j], 3, strides_=2)\n",
    "                        y = BatchNormalization(epsilon=BN_EPSILON, momentum=BN_MOMENTUM)(y)\n",
    "                        y = Activation('relu')(y)\n",
    "                residual = Add()([residual, y])\n",
    "\n",
    "        residual = Activation('relu')(residual)\n",
    "        out.append(residual)\n",
    "\n",
    "    return out"
   ]
  },
  {
   "cell_type": "code",
   "execution_count": 12,
   "id": "422cb59b",
   "metadata": {
    "execution": {
     "iopub.execute_input": "2024-01-23T15:15:11.543078Z",
     "iopub.status.busy": "2024-01-23T15:15:11.542780Z",
     "iopub.status.idle": "2024-01-23T15:15:11.555366Z",
     "shell.execute_reply": "2024-01-23T15:15:11.554665Z"
    },
    "papermill": {
     "duration": 0.021863,
     "end_time": "2024-01-23T15:15:11.557194",
     "exception": false,
     "start_time": "2024-01-23T15:15:11.535331",
     "status": "completed"
    },
    "tags": []
   },
   "outputs": [],
   "source": [
    "# Functions to create model\n",
    "def HighResolutionModule(x, channels, multi_scale_output=True):\n",
    "    residual = branches(x, 4, channels)\n",
    "    out = fuse_layers(residual, channels, multi_scale_output=multi_scale_output)\n",
    "    return out\n",
    "\n",
    "\n",
    "def stage(x, num_modules, channels, multi_scale_output=True):\n",
    "    out = x\n",
    "    for i in range(num_modules):\n",
    "        if i == num_modules - 1 and multi_scale_output == False:\n",
    "            out = HighResolutionModule(out, channels, multi_scale_output=False)\n",
    "        else:\n",
    "            out = HighResolutionModule(out, channels)\n",
    "\n",
    "    return out\n",
    "\n",
    "\n",
    "def hrnet_keras(input_size=(512,512, 1)):\n",
    "    channels_2 = [32, 64]\n",
    "    channels_3 = [32, 64, 128]\n",
    "    channels_4 = [32, 64, 128, 256]\n",
    "    num_modules_2 = 1\n",
    "    num_modules_3 = 4\n",
    "    num_modules_4 = 3\n",
    "\n",
    "    inputs = Input(input_size)\n",
    "    x = conv(inputs, 64, 3, strides_=2)\n",
    "    x = BatchNormalization(epsilon=BN_EPSILON, momentum=BN_MOMENTUM)(x)\n",
    "    x = conv(x, 64, 3, strides_=2)\n",
    "    x = BatchNormalization(epsilon=BN_EPSILON, momentum=BN_MOMENTUM)(x)\n",
    "    x = Activation('relu')(x)\n",
    "\n",
    "    la1 = layer1(x)\n",
    "    tr1 = transition_layer([la1], [256], channels_2)\n",
    "    st2 = stage(tr1, num_modules_2, channels_2)\n",
    "    tr2 = transition_layer(st2, channels_2, channels_3)\n",
    "    st3 = stage(tr2, num_modules_3, channels_3)\n",
    "    tr3 = transition_layer(st3, channels_3, channels_4)\n",
    "    st4 = stage(tr3, num_modules_4, channels_4, multi_scale_output=False)\n",
    "    up1 = UpSampling2D()(st4[0])\n",
    "    up1 = conv(up1, 32, 3)\n",
    "    up1 = BatchNormalization(epsilon=BN_EPSILON, momentum=BN_MOMENTUM)(up1)\n",
    "    up1 = Activation('relu')(up1)\n",
    "    up2 = UpSampling2D()(up1)\n",
    "    up2 = conv(up2, 32, 3)\n",
    "    up2 = BatchNormalization(epsilon=BN_EPSILON, momentum=BN_MOMENTUM)(up2)\n",
    "    up2 = Activation('relu')(up2)\n",
    "    final = conv(up2, 1, 1, padding_='valid', activation='sigmoid')\n",
    "\n",
    "    model = Model(inputs=inputs, outputs=final)\n",
    "\n",
    "    return model\n"
   ]
  },
  {
   "cell_type": "code",
   "execution_count": 13,
   "id": "066b4e59",
   "metadata": {
    "execution": {
     "iopub.execute_input": "2024-01-23T15:15:11.570512Z",
     "iopub.status.busy": "2024-01-23T15:15:11.570237Z",
     "iopub.status.idle": "2024-01-23T15:15:24.427916Z",
     "shell.execute_reply": "2024-01-23T15:15:24.426856Z"
    },
    "papermill": {
     "duration": 12.867576,
     "end_time": "2024-01-23T15:15:24.430910",
     "exception": false,
     "start_time": "2024-01-23T15:15:11.563334",
     "status": "completed"
    },
    "tags": []
   },
   "outputs": [],
   "source": [
    "with strategy.scope():\n",
    "    model = hrnet_keras()"
   ]
  },
  {
   "cell_type": "markdown",
   "id": "990c6814",
   "metadata": {
    "papermill": {
     "duration": 0.008284,
     "end_time": "2024-01-23T15:15:24.448993",
     "exception": false,
     "start_time": "2024-01-23T15:15:24.440709",
     "status": "completed"
    },
    "tags": []
   },
   "source": [
    "# Load weghts"
   ]
  },
  {
   "cell_type": "code",
   "execution_count": 14,
   "id": "cdbd87a5",
   "metadata": {
    "execution": {
     "iopub.execute_input": "2024-01-23T15:15:24.464205Z",
     "iopub.status.busy": "2024-01-23T15:15:24.463522Z",
     "iopub.status.idle": "2024-01-23T15:15:29.863845Z",
     "shell.execute_reply": "2024-01-23T15:15:29.862991Z"
    },
    "papermill": {
     "duration": 5.410511,
     "end_time": "2024-01-23T15:15:29.866164",
     "exception": false,
     "start_time": "2024-01-23T15:15:24.455653",
     "status": "completed"
    },
    "tags": []
   },
   "outputs": [],
   "source": [
    "model.load_weights('/kaggle/input/kidney-train-1/model_weights_0.9115426540374756_0.14422346651554108.h5')"
   ]
  },
  {
   "cell_type": "code",
   "execution_count": 15,
   "id": "87bb6943",
   "metadata": {
    "execution": {
     "iopub.execute_input": "2024-01-23T15:15:29.883244Z",
     "iopub.status.busy": "2024-01-23T15:15:29.882889Z",
     "iopub.status.idle": "2024-01-23T15:15:49.368297Z",
     "shell.execute_reply": "2024-01-23T15:15:49.367274Z"
    },
    "papermill": {
     "duration": 19.49625,
     "end_time": "2024-01-23T15:15:49.370531",
     "exception": false,
     "start_time": "2024-01-23T15:15:29.874281",
     "status": "completed"
    },
    "tags": []
   },
   "outputs": [
    {
     "data": {
      "application/vnd.jupyter.widget-view+json": {
       "model_id": "58034443ebd84ddbba0176190a2a5971",
       "version_major": 2,
       "version_minor": 0
      },
      "text/plain": [
       "  0%|          | 0/6 [00:00<?, ?it/s]"
      ]
     },
     "metadata": {},
     "output_type": "display_data"
    },
    {
     "name": "stdout",
     "output_type": "stream",
     "text": [
      "1/1 [==============================] - 16s 16s/step\n",
      "1/1 [==============================] - 0s 222ms/step\n",
      "1/1 [==============================] - 0s 228ms/step\n",
      "1/1 [==============================] - 0s 243ms/step\n",
      "1/1 [==============================] - 0s 266ms/step\n",
      "1/1 [==============================] - 0s 235ms/step\n"
     ]
    }
   ],
   "source": [
    "result=[]\n",
    "for img_path in tqdm(test.images):\n",
    "    img=tifffile.imread(img_path)\n",
    "    img=img/2**16\n",
    "#     print(img.min(),img.max())\n",
    "#     Min-max normalization\n",
    "    min_value = np.min(img)\n",
    "    max_value = np.max(img)\n",
    "\n",
    "    img = (img - min_value) / (max_value - min_value+1e-9)\n",
    "    height,width=img.shape\n",
    "    if height/512==height//512:\n",
    "        rows=height/512\n",
    "    else:\n",
    "        rows=height//512+1\n",
    "    if width/512==width//512:\n",
    "        columns=width/512\n",
    "    else:\n",
    "        columns=width//512+1\n",
    "    img=np.pad(img,((0,rows*512-height),(0,columns*512-width)),mode='constant',constant_values=0.2)\n",
    "    img_list=encode_image_to_tiles(img,(512,512))\n",
    "    tf_img=tf.convert_to_tensor(img_list)\n",
    "    pred=model.predict(tf_img)\n",
    "    pred=np.squeeze(pred)\n",
    "    pred=np.where(pred>0.4,1,0)\n",
    "    pred=decode_tiles_to_image(pred,(rows*512,columns*512))\n",
    "    pred=pred[:height,:width]\n",
    "    encode=rle_encode(pred)\n",
    "    result.append(encode)"
   ]
  },
  {
   "cell_type": "code",
   "execution_count": 16,
   "id": "dcc37309",
   "metadata": {
    "execution": {
     "iopub.execute_input": "2024-01-23T15:15:49.387845Z",
     "iopub.status.busy": "2024-01-23T15:15:49.387490Z",
     "iopub.status.idle": "2024-01-23T15:15:49.393264Z",
     "shell.execute_reply": "2024-01-23T15:15:49.392319Z"
    },
    "papermill": {
     "duration": 0.016273,
     "end_time": "2024-01-23T15:15:49.395258",
     "exception": false,
     "start_time": "2024-01-23T15:15:49.378985",
     "status": "completed"
    },
    "tags": []
   },
   "outputs": [],
   "source": [
    "test['id']=test.images.apply(lambda x:x.split('/')[5]+'_'+x.split('/')[7][:-4])"
   ]
  },
  {
   "cell_type": "code",
   "execution_count": 17,
   "id": "3da9a56c",
   "metadata": {
    "execution": {
     "iopub.execute_input": "2024-01-23T15:15:49.412067Z",
     "iopub.status.busy": "2024-01-23T15:15:49.411337Z",
     "iopub.status.idle": "2024-01-23T15:15:49.415950Z",
     "shell.execute_reply": "2024-01-23T15:15:49.415127Z"
    },
    "papermill": {
     "duration": 0.015108,
     "end_time": "2024-01-23T15:15:49.417837",
     "exception": false,
     "start_time": "2024-01-23T15:15:49.402729",
     "status": "completed"
    },
    "tags": []
   },
   "outputs": [],
   "source": [
    "test['rle']=result"
   ]
  },
  {
   "cell_type": "code",
   "execution_count": 18,
   "id": "00218fbe",
   "metadata": {
    "execution": {
     "iopub.execute_input": "2024-01-23T15:15:49.433746Z",
     "iopub.status.busy": "2024-01-23T15:15:49.433223Z",
     "iopub.status.idle": "2024-01-23T15:15:49.446176Z",
     "shell.execute_reply": "2024-01-23T15:15:49.445324Z"
    },
    "papermill": {
     "duration": 0.023159,
     "end_time": "2024-01-23T15:15:49.448263",
     "exception": false,
     "start_time": "2024-01-23T15:15:49.425104",
     "status": "completed"
    },
    "tags": []
   },
   "outputs": [
    {
     "data": {
      "text/html": [
       "<div>\n",
       "<style scoped>\n",
       "    .dataframe tbody tr th:only-of-type {\n",
       "        vertical-align: middle;\n",
       "    }\n",
       "\n",
       "    .dataframe tbody tr th {\n",
       "        vertical-align: top;\n",
       "    }\n",
       "\n",
       "    .dataframe thead th {\n",
       "        text-align: right;\n",
       "    }\n",
       "</style>\n",
       "<table border=\"1\" class=\"dataframe\">\n",
       "  <thead>\n",
       "    <tr style=\"text-align: right;\">\n",
       "      <th></th>\n",
       "      <th>images</th>\n",
       "      <th>id</th>\n",
       "      <th>rle</th>\n",
       "    </tr>\n",
       "  </thead>\n",
       "  <tbody>\n",
       "    <tr>\n",
       "      <th>0</th>\n",
       "      <td>/kaggle/input/blood-vessel-segmentation/test/k...</td>\n",
       "      <td>kidney_5_0000</td>\n",
       "      <td>1 0</td>\n",
       "    </tr>\n",
       "    <tr>\n",
       "      <th>1</th>\n",
       "      <td>/kaggle/input/blood-vessel-segmentation/test/k...</td>\n",
       "      <td>kidney_5_0001</td>\n",
       "      <td>1 0</td>\n",
       "    </tr>\n",
       "    <tr>\n",
       "      <th>2</th>\n",
       "      <td>/kaggle/input/blood-vessel-segmentation/test/k...</td>\n",
       "      <td>kidney_5_0002</td>\n",
       "      <td>1 0</td>\n",
       "    </tr>\n",
       "    <tr>\n",
       "      <th>3</th>\n",
       "      <td>/kaggle/input/blood-vessel-segmentation/test/k...</td>\n",
       "      <td>kidney_6_0000</td>\n",
       "      <td>1 0</td>\n",
       "    </tr>\n",
       "    <tr>\n",
       "      <th>4</th>\n",
       "      <td>/kaggle/input/blood-vessel-segmentation/test/k...</td>\n",
       "      <td>kidney_6_0001</td>\n",
       "      <td>1 0</td>\n",
       "    </tr>\n",
       "    <tr>\n",
       "      <th>5</th>\n",
       "      <td>/kaggle/input/blood-vessel-segmentation/test/k...</td>\n",
       "      <td>kidney_6_0002</td>\n",
       "      <td>1 0</td>\n",
       "    </tr>\n",
       "  </tbody>\n",
       "</table>\n",
       "</div>"
      ],
      "text/plain": [
       "                                              images             id  rle\n",
       "0  /kaggle/input/blood-vessel-segmentation/test/k...  kidney_5_0000  1 0\n",
       "1  /kaggle/input/blood-vessel-segmentation/test/k...  kidney_5_0001  1 0\n",
       "2  /kaggle/input/blood-vessel-segmentation/test/k...  kidney_5_0002  1 0\n",
       "3  /kaggle/input/blood-vessel-segmentation/test/k...  kidney_6_0000  1 0\n",
       "4  /kaggle/input/blood-vessel-segmentation/test/k...  kidney_6_0001  1 0\n",
       "5  /kaggle/input/blood-vessel-segmentation/test/k...  kidney_6_0002  1 0"
      ]
     },
     "execution_count": 18,
     "metadata": {},
     "output_type": "execute_result"
    }
   ],
   "source": [
    "test"
   ]
  },
  {
   "cell_type": "code",
   "execution_count": 19,
   "id": "637c42da",
   "metadata": {
    "execution": {
     "iopub.execute_input": "2024-01-23T15:15:49.465662Z",
     "iopub.status.busy": "2024-01-23T15:15:49.465403Z",
     "iopub.status.idle": "2024-01-23T15:15:49.473610Z",
     "shell.execute_reply": "2024-01-23T15:15:49.472746Z"
    },
    "papermill": {
     "duration": 0.018359,
     "end_time": "2024-01-23T15:15:49.475354",
     "exception": false,
     "start_time": "2024-01-23T15:15:49.456995",
     "status": "completed"
    },
    "tags": []
   },
   "outputs": [],
   "source": [
    "test=test[['id','rle']]"
   ]
  },
  {
   "cell_type": "code",
   "execution_count": 20,
   "id": "3fdd135c",
   "metadata": {
    "execution": {
     "iopub.execute_input": "2024-01-23T15:15:49.491702Z",
     "iopub.status.busy": "2024-01-23T15:15:49.491424Z",
     "iopub.status.idle": "2024-01-23T15:15:49.498562Z",
     "shell.execute_reply": "2024-01-23T15:15:49.497796Z"
    },
    "papermill": {
     "duration": 0.017353,
     "end_time": "2024-01-23T15:15:49.500419",
     "exception": false,
     "start_time": "2024-01-23T15:15:49.483066",
     "status": "completed"
    },
    "tags": []
   },
   "outputs": [],
   "source": [
    "test.to_csv('submission.csv',index=False)"
   ]
  }
 ],
 "metadata": {
  "kaggle": {
   "accelerator": "nvidiaTeslaT4",
   "dataSources": [
    {
     "databundleVersionId": 6962461,
     "sourceId": 61446,
     "sourceType": "competition"
    },
    {
     "sourceId": 159882135,
     "sourceType": "kernelVersion"
    }
   ],
   "isGpuEnabled": true,
   "isInternetEnabled": false,
   "language": "python",
   "sourceType": "notebook"
  },
  "kernelspec": {
   "display_name": "Python 3",
   "language": "python",
   "name": "python3"
  },
  "language_info": {
   "codemirror_mode": {
    "name": "ipython",
    "version": 3
   },
   "file_extension": ".py",
   "mimetype": "text/x-python",
   "name": "python",
   "nbconvert_exporter": "python",
   "pygments_lexer": "ipython3",
   "version": "3.10.12"
  },
  "papermill": {
   "default_parameters": {},
   "duration": 59.642742,
   "end_time": "2024-01-23T15:15:52.342558",
   "environment_variables": {},
   "exception": null,
   "input_path": "__notebook__.ipynb",
   "output_path": "__notebook__.ipynb",
   "parameters": {},
   "start_time": "2024-01-23T15:14:52.699816",
   "version": "2.4.0"
  },
  "widgets": {
   "application/vnd.jupyter.widget-state+json": {
    "state": {
     "183220c002724aad911a152901836c32": {
      "model_module": "@jupyter-widgets/controls",
      "model_module_version": "1.5.0",
      "model_name": "DescriptionStyleModel",
      "state": {
       "_model_module": "@jupyter-widgets/controls",
       "_model_module_version": "1.5.0",
       "_model_name": "DescriptionStyleModel",
       "_view_count": null,
       "_view_module": "@jupyter-widgets/base",
       "_view_module_version": "1.2.0",
       "_view_name": "StyleView",
       "description_width": ""
      }
     },
     "2e54da09070e4ef2a5267922464296f8": {
      "model_module": "@jupyter-widgets/base",
      "model_module_version": "1.2.0",
      "model_name": "LayoutModel",
      "state": {
       "_model_module": "@jupyter-widgets/base",
       "_model_module_version": "1.2.0",
       "_model_name": "LayoutModel",
       "_view_count": null,
       "_view_module": "@jupyter-widgets/base",
       "_view_module_version": "1.2.0",
       "_view_name": "LayoutView",
       "align_content": null,
       "align_items": null,
       "align_self": null,
       "border": null,
       "bottom": null,
       "display": null,
       "flex": null,
       "flex_flow": null,
       "grid_area": null,
       "grid_auto_columns": null,
       "grid_auto_flow": null,
       "grid_auto_rows": null,
       "grid_column": null,
       "grid_gap": null,
       "grid_row": null,
       "grid_template_areas": null,
       "grid_template_columns": null,
       "grid_template_rows": null,
       "height": null,
       "justify_content": null,
       "justify_items": null,
       "left": null,
       "margin": null,
       "max_height": null,
       "max_width": null,
       "min_height": null,
       "min_width": null,
       "object_fit": null,
       "object_position": null,
       "order": null,
       "overflow": null,
       "overflow_x": null,
       "overflow_y": null,
       "padding": null,
       "right": null,
       "top": null,
       "visibility": null,
       "width": null
      }
     },
     "34e6bc7b2a824109a5b4506f1cb28b33": {
      "model_module": "@jupyter-widgets/controls",
      "model_module_version": "1.5.0",
      "model_name": "HTMLModel",
      "state": {
       "_dom_classes": [],
       "_model_module": "@jupyter-widgets/controls",
       "_model_module_version": "1.5.0",
       "_model_name": "HTMLModel",
       "_view_count": null,
       "_view_module": "@jupyter-widgets/controls",
       "_view_module_version": "1.5.0",
       "_view_name": "HTMLView",
       "description": "",
       "description_tooltip": null,
       "layout": "IPY_MODEL_2e54da09070e4ef2a5267922464296f8",
       "placeholder": "​",
       "style": "IPY_MODEL_d332f790f822433ca7071203ea3cbdd8",
       "value": " 6/6 [00:19&lt;00:00,  1.52s/it]"
      }
     },
     "37a4c3b35ddc432aa55a4a0fa803704e": {
      "model_module": "@jupyter-widgets/base",
      "model_module_version": "1.2.0",
      "model_name": "LayoutModel",
      "state": {
       "_model_module": "@jupyter-widgets/base",
       "_model_module_version": "1.2.0",
       "_model_name": "LayoutModel",
       "_view_count": null,
       "_view_module": "@jupyter-widgets/base",
       "_view_module_version": "1.2.0",
       "_view_name": "LayoutView",
       "align_content": null,
       "align_items": null,
       "align_self": null,
       "border": null,
       "bottom": null,
       "display": null,
       "flex": null,
       "flex_flow": null,
       "grid_area": null,
       "grid_auto_columns": null,
       "grid_auto_flow": null,
       "grid_auto_rows": null,
       "grid_column": null,
       "grid_gap": null,
       "grid_row": null,
       "grid_template_areas": null,
       "grid_template_columns": null,
       "grid_template_rows": null,
       "height": null,
       "justify_content": null,
       "justify_items": null,
       "left": null,
       "margin": null,
       "max_height": null,
       "max_width": null,
       "min_height": null,
       "min_width": null,
       "object_fit": null,
       "object_position": null,
       "order": null,
       "overflow": null,
       "overflow_x": null,
       "overflow_y": null,
       "padding": null,
       "right": null,
       "top": null,
       "visibility": null,
       "width": null
      }
     },
     "37e4a6e5f30b44218637f57241033c51": {
      "model_module": "@jupyter-widgets/controls",
      "model_module_version": "1.5.0",
      "model_name": "HTMLModel",
      "state": {
       "_dom_classes": [],
       "_model_module": "@jupyter-widgets/controls",
       "_model_module_version": "1.5.0",
       "_model_name": "HTMLModel",
       "_view_count": null,
       "_view_module": "@jupyter-widgets/controls",
       "_view_module_version": "1.5.0",
       "_view_name": "HTMLView",
       "description": "",
       "description_tooltip": null,
       "layout": "IPY_MODEL_37a4c3b35ddc432aa55a4a0fa803704e",
       "placeholder": "​",
       "style": "IPY_MODEL_183220c002724aad911a152901836c32",
       "value": "100%"
      }
     },
     "4ee89a979bde4459839ede105d849b65": {
      "model_module": "@jupyter-widgets/controls",
      "model_module_version": "1.5.0",
      "model_name": "FloatProgressModel",
      "state": {
       "_dom_classes": [],
       "_model_module": "@jupyter-widgets/controls",
       "_model_module_version": "1.5.0",
       "_model_name": "FloatProgressModel",
       "_view_count": null,
       "_view_module": "@jupyter-widgets/controls",
       "_view_module_version": "1.5.0",
       "_view_name": "ProgressView",
       "bar_style": "success",
       "description": "",
       "description_tooltip": null,
       "layout": "IPY_MODEL_7dcb90837241400a9aefd137d402e05a",
       "max": 6.0,
       "min": 0.0,
       "orientation": "horizontal",
       "style": "IPY_MODEL_67fe326913ae4381a59b1a5a5ea5fb1e",
       "value": 6.0
      }
     },
     "58034443ebd84ddbba0176190a2a5971": {
      "model_module": "@jupyter-widgets/controls",
      "model_module_version": "1.5.0",
      "model_name": "HBoxModel",
      "state": {
       "_dom_classes": [],
       "_model_module": "@jupyter-widgets/controls",
       "_model_module_version": "1.5.0",
       "_model_name": "HBoxModel",
       "_view_count": null,
       "_view_module": "@jupyter-widgets/controls",
       "_view_module_version": "1.5.0",
       "_view_name": "HBoxView",
       "box_style": "",
       "children": [
        "IPY_MODEL_37e4a6e5f30b44218637f57241033c51",
        "IPY_MODEL_4ee89a979bde4459839ede105d849b65",
        "IPY_MODEL_34e6bc7b2a824109a5b4506f1cb28b33"
       ],
       "layout": "IPY_MODEL_6098453a15224ae1b1bcb206c7772f25"
      }
     },
     "6098453a15224ae1b1bcb206c7772f25": {
      "model_module": "@jupyter-widgets/base",
      "model_module_version": "1.2.0",
      "model_name": "LayoutModel",
      "state": {
       "_model_module": "@jupyter-widgets/base",
       "_model_module_version": "1.2.0",
       "_model_name": "LayoutModel",
       "_view_count": null,
       "_view_module": "@jupyter-widgets/base",
       "_view_module_version": "1.2.0",
       "_view_name": "LayoutView",
       "align_content": null,
       "align_items": null,
       "align_self": null,
       "border": null,
       "bottom": null,
       "display": null,
       "flex": null,
       "flex_flow": null,
       "grid_area": null,
       "grid_auto_columns": null,
       "grid_auto_flow": null,
       "grid_auto_rows": null,
       "grid_column": null,
       "grid_gap": null,
       "grid_row": null,
       "grid_template_areas": null,
       "grid_template_columns": null,
       "grid_template_rows": null,
       "height": null,
       "justify_content": null,
       "justify_items": null,
       "left": null,
       "margin": null,
       "max_height": null,
       "max_width": null,
       "min_height": null,
       "min_width": null,
       "object_fit": null,
       "object_position": null,
       "order": null,
       "overflow": null,
       "overflow_x": null,
       "overflow_y": null,
       "padding": null,
       "right": null,
       "top": null,
       "visibility": null,
       "width": null
      }
     },
     "67fe326913ae4381a59b1a5a5ea5fb1e": {
      "model_module": "@jupyter-widgets/controls",
      "model_module_version": "1.5.0",
      "model_name": "ProgressStyleModel",
      "state": {
       "_model_module": "@jupyter-widgets/controls",
       "_model_module_version": "1.5.0",
       "_model_name": "ProgressStyleModel",
       "_view_count": null,
       "_view_module": "@jupyter-widgets/base",
       "_view_module_version": "1.2.0",
       "_view_name": "StyleView",
       "bar_color": null,
       "description_width": ""
      }
     },
     "7dcb90837241400a9aefd137d402e05a": {
      "model_module": "@jupyter-widgets/base",
      "model_module_version": "1.2.0",
      "model_name": "LayoutModel",
      "state": {
       "_model_module": "@jupyter-widgets/base",
       "_model_module_version": "1.2.0",
       "_model_name": "LayoutModel",
       "_view_count": null,
       "_view_module": "@jupyter-widgets/base",
       "_view_module_version": "1.2.0",
       "_view_name": "LayoutView",
       "align_content": null,
       "align_items": null,
       "align_self": null,
       "border": null,
       "bottom": null,
       "display": null,
       "flex": null,
       "flex_flow": null,
       "grid_area": null,
       "grid_auto_columns": null,
       "grid_auto_flow": null,
       "grid_auto_rows": null,
       "grid_column": null,
       "grid_gap": null,
       "grid_row": null,
       "grid_template_areas": null,
       "grid_template_columns": null,
       "grid_template_rows": null,
       "height": null,
       "justify_content": null,
       "justify_items": null,
       "left": null,
       "margin": null,
       "max_height": null,
       "max_width": null,
       "min_height": null,
       "min_width": null,
       "object_fit": null,
       "object_position": null,
       "order": null,
       "overflow": null,
       "overflow_x": null,
       "overflow_y": null,
       "padding": null,
       "right": null,
       "top": null,
       "visibility": null,
       "width": null
      }
     },
     "d332f790f822433ca7071203ea3cbdd8": {
      "model_module": "@jupyter-widgets/controls",
      "model_module_version": "1.5.0",
      "model_name": "DescriptionStyleModel",
      "state": {
       "_model_module": "@jupyter-widgets/controls",
       "_model_module_version": "1.5.0",
       "_model_name": "DescriptionStyleModel",
       "_view_count": null,
       "_view_module": "@jupyter-widgets/base",
       "_view_module_version": "1.2.0",
       "_view_name": "StyleView",
       "description_width": ""
      }
     }
    },
    "version_major": 2,
    "version_minor": 0
   }
  }
 },
 "nbformat": 4,
 "nbformat_minor": 5
}
